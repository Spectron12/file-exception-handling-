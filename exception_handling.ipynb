{
  "nbformat": 4,
  "nbformat_minor": 0,
  "metadata": {
    "colab": {
      "provenance": []
    },
    "kernelspec": {
      "name": "python3",
      "display_name": "Python 3"
    },
    "language_info": {
      "name": "python"
    }
  },
  "cells": [
    {
      "cell_type": "markdown",
      "source": [
        "# **Theory  Question**\n",
        "\n",
        "---\n",
        "\n"
      ],
      "metadata": {
        "id": "NagWrtJqII9R"
      }
    },
    {
      "cell_type": "markdown",
      "source": [
        "1.  What is the difference between interpreted and compiled languages?\n",
        "- Interpreted languages run the code line by line using an interpreter, making it easier to debug but slower in execution. Compiled languages are converted into machine code before running, which makes them faster but harder to debug. Interpreted languages include Python and JavaScript. Compiled languages include C and C++. Both have their own use cases depending on the need."
      ],
      "metadata": {
        "id": "O7FeBe1XIyFq"
      }
    },
    {
      "cell_type": "markdown",
      "source": [
        "2. What is exception handling in Python ?\n",
        "- Exception handling in Python is a way to manage errors that occur during program execution. It uses try, except, else, and finally blocks to catch and respond to exceptions without crashing the program. This helps make the code more reliable and user-friendly. For example, it can handle cases like dividing by zero or reading a missing file."
      ],
      "metadata": {
        "id": "y217cleTJJ05"
      }
    },
    {
      "cell_type": "markdown",
      "source": [
        "3. What is the purpose of the finally block in exception handling?\n",
        "- The finally block is used to write code that should run no matter what, whether an exception occurs or not. It’s often used for cleanup actions like closing files or releasing resources. This ensures that important tasks are completed even if an error happens. It always executes after the try and except blocks."
      ],
      "metadata": {
        "id": "u03Ji_1AJj-R"
      }
    },
    {
      "cell_type": "markdown",
      "source": [
        "4. What is logging in Python ?\n",
        "- Logging in Python is a way to track events that happen while the program runs. It helps in debugging and monitoring by recording messages like errors, warnings, or general information. Python has a built-in logging module for this purpose. Unlike print statements, logging can be configured to show messages based on importance levels."
      ],
      "metadata": {
        "id": "F-lSFYn-J_vJ"
      }
    },
    {
      "cell_type": "markdown",
      "source": [
        "5.  What is the significance of the __del__ method in Python ?\n",
        "- he __del__ method in Python is a special method called a destructor. It gets triggered when an object is about to be destroyed or deleted. It’s mainly used to clean up resources like closing files or releasing memory. However, it's not commonly used because Python has automatic garbage collection."
      ],
      "metadata": {
        "id": "datAllxNKHh5"
      }
    },
    {
      "cell_type": "markdown",
      "source": [
        "6.  What is the difference between import and from ... import in Python ?\n",
        "- The import statement brings in the whole module, so you need to use the module name to access its functions or classes. For example, import math means you use math.sqrt(). The from ... import statement lets you import specific parts directly, like from math import sqrt, so you can just use sqrt() without the module name."
      ],
      "metadata": {
        "id": "90K5ocE7KQhh"
      }
    },
    {
      "cell_type": "markdown",
      "source": [
        "7.  How can you handle multiple exceptions in Python ?\n",
        "- we can handle multiple exceptions in Python by using multiple except blocks after a try block, each handling a specific type of error. You can also use a single except block with a tuple of exceptions to handle multiple errors together. This makes your code more flexible and helps in managing different kinds of runtime issues effectively."
      ],
      "metadata": {
        "id": "oM3JdKghKXqh"
      }
    },
    {
      "cell_type": "markdown",
      "source": [
        "8.  What is the purpose of the with statement when handling files in Python ?\n",
        "- The with statement is used when handling files to ensure proper opening and closing of the file. It automatically takes care of closing the file, even if an error occurs during file operations. This makes the code cleaner and prevents memory leaks or file locks. It’s the preferred way to work with files in Python."
      ],
      "metadata": {
        "id": "PDDZsgg4LY-R"
      }
    },
    {
      "cell_type": "markdown",
      "source": [
        "9.  What is the difference between multithreading and multiprocessing ?\n",
        "- Multithreading and multiprocessing are both techniques for achieving parallelism, but they work differently. Multithreading uses multiple threads within a single process, sharing the same memory space, which makes it more lightweight but can lead to issues like race conditions. Multiprocessing, on the other hand, uses multiple processes, each with its own memory space, making it more suitable for CPU-bound tasks and avoiding issues related to shared memory."
      ],
      "metadata": {
        "id": "9XKOuzIRMFLB"
      }
    },
    {
      "cell_type": "markdown",
      "source": [
        "10.  What are the advantages of using logging in a program ?\n",
        "- Using logging in a program has several advantages. It helps track and record important events, errors, and information, which aids in debugging and troubleshooting. Logging also provides a history of the program’s execution, allowing you to monitor performance and detect issues. Additionally, it offers different logging levels (e.g., INFO, WARNING, ERROR) to categorize messages, making it easier to manage and filter logs."
      ],
      "metadata": {
        "id": "QsuiCwh_MPtB"
      }
    },
    {
      "cell_type": "markdown",
      "source": [
        "11.  What is memory management in Python ?\n",
        "- Memory management in Python involves managing the allocation and deallocation of memory for objects and variables. Python uses an automatic memory management system, which includes garbage collection to reclaim memory from objects that are no longer in use. The built-in reference counting mechanism keeps track of how many references exist for an object, and when the count drops to zero, the memory is freed. This helps avoid memory leaks and makes the program more efficient."
      ],
      "metadata": {
        "id": "ZvpNMh1dMXoJ"
      }
    },
    {
      "cell_type": "markdown",
      "source": [
        "12. What are the basic steps involved in exception handling in Python?\n",
        "-> The basic steps involved in exception handling in Python are:\n",
        "\n",
        "* Try block: You write the code that may raise an exception inside a try block.\n",
        "\n",
        "* Except block: If an exception occurs in the try block, the control is passed to the except block where you handle the exception.\n",
        "\n",
        "* Else block: This block is optional and runs if no exceptions are raised in the try block.\n",
        "\n",
        "* Finally block: This block is optional as well and runs regardless of whether an exception occurs, typically used for cleanup activities like closing files or releasing resources."
      ],
      "metadata": {
        "id": "jDmD2mXFMfOJ"
      }
    },
    {
      "cell_type": "markdown",
      "source": [
        "13.  Why is memory management important in Python?\n",
        "- Memory management is important in Python because it ensures efficient use of system resources and prevents memory leaks. By automatically handling memory allocation and deallocation, Python helps prevent crashes or slowdowns due to excessive memory use. It also improves the performance of programs by efficiently managing objects and data in memory, especially in long-running applications. Effective memory management contributes to the stability and reliability of the software."
      ],
      "metadata": {
        "id": "vNA36gu8Mt1J"
      }
    },
    {
      "cell_type": "markdown",
      "source": [
        "14. What is the role of try and except in exception handling ?\n",
        "- In exception handling, the try block is used to write the code that may cause an error. If an exception occurs during the execution of the code in the try block, the control is transferred to the except block, where the error is handled. This prevents the program from crashing and allows you to manage exceptions, such as displaying error messages or taking corrective actions. It ensures that the program continues running smoothly even if unexpected errors occur."
      ],
      "metadata": {
        "id": "Clf96mrCM1lh"
      }
    },
    {
      "cell_type": "markdown",
      "source": [
        "15. How does Python's garbage collection system work?\n",
        "- Python's garbage collection system works by automatically managing memory through reference counting and cyclic garbage collection. Each object in Python has a reference count, which tracks how many references point to the object. When the reference count drops to zero (i.e., no references remain), the memory occupied by the object is released. Python also handles circular references (objects referring to each other) using a cyclic garbage collector that periodically checks for and frees memory from such objects. This helps prevent memory leaks and improves resource management."
      ],
      "metadata": {
        "id": "CWjNqoRsNAW5"
      }
    },
    {
      "cell_type": "markdown",
      "source": [
        "16. What is the purpose of the else block in exception handling?\n",
        "- The else block in exception handling is used to define code that should execute only if no exceptions were raised in the try block. It allows you to specify actions that should happen when the code runs successfully, such as processing results or performing tasks that are dependent on the try block completing without errors. The else block is optional and helps keep the code clean by separating normal operations from error handling."
      ],
      "metadata": {
        "id": "ZKfyep8fNITR"
      }
    },
    {
      "cell_type": "markdown",
      "source": [
        "17.  What are the common logging levels in Python ?\n",
        "-> The common logging levels in Python are:\n",
        "\n",
        "* DEBUG: Provides detailed information, typically useful for diagnosing problems.\n",
        "\n",
        "* INFO: Used to log general information about program execution.\n",
        "\n",
        "* WARNING: Indicates something unexpected or potentially problematic, but not necessarily an error.\n",
        "\n",
        "* ERROR: Logs errors that occur during execution, indicating a failure in a specific part of the program.\n",
        "\n",
        "* CRITICAL: Used for very serious errors, often leading to program termination or major issues.\n",
        "\n",
        "These levels help categorize the severity of log messages and allow you to filter them based on importance.\n"
      ],
      "metadata": {
        "id": "TD-0jxw4NRCJ"
      }
    },
    {
      "cell_type": "markdown",
      "source": [
        "18.  What is the difference between os.fork() and multiprocessing in Python ?\n",
        "-> The key difference between os.fork() and the multiprocessing module in Python lies in how they handle process creation and platform compatibility.\n",
        "* **os.fork()**: This function is available only on Unix-like systems (e.g., Linux, macOS) and creates a child process by duplicating the calling process. It is a low-level method that provides more control but requires manual management of process synchronization and communication.\n",
        "\n",
        "* **multiprocessing:** This is a high-level module that works across platforms (including Windows). It creates separate processes that run concurrently and provides built-in tools for process management, synchronization, and inter-process communication, making it easier to work with parallelism in a portable way.\n",
        "\n",
        "In summary, multiprocessing is more versatile and easier to use across different platforms, while os.fork() is a Unix-specific, low-level function."
      ],
      "metadata": {
        "id": "SUQgBOwwNiV5"
      }
    },
    {
      "cell_type": "markdown",
      "source": [
        "19.  What is the importance of closing a file in Python ?\n",
        "- Closing a file in Python is important because it frees up system resources, such as memory and file handles, that were being used by the file. When a file is closed, changes made to the file are saved, and the file becomes available for other processes to use. Not closing a file can lead to memory leaks, data corruption, or errors when trying to access the file later. Using a with statement ensures files are automatically closed, even if an error occurs."
      ],
      "metadata": {
        "id": "qB0F5R6lN8VZ"
      }
    },
    {
      "cell_type": "markdown",
      "source": [
        "20. What is the difference between file.read() and file.readline() in Python ?\n",
        "-> The difference between file.read() and file.readline() in Python lies in how they read data from a file:\n",
        "\n",
        "* file.read(): This method reads the entire content of the file as a single string. It’s useful when you want to load the whole file into memory at once.\n",
        "\n",
        "* file.readline(): This method reads one line at a time from the file, returning it as a string. It’s useful when you want to process a file line by line, which is more memory-efficient for large files.\n",
        "\n",
        "In short, file.read() is for reading everything at once, while file.readline() is for reading the file line by line."
      ],
      "metadata": {
        "id": "5Noyj5lDOF4p"
      }
    },
    {
      "cell_type": "markdown",
      "source": [
        "21. What is the logging module in Python used for ?\n",
        "- The logging module in Python is used for tracking and recording events that occur during the execution of a program. It allows developers to log messages at different severity levels (e.g., DEBUG, INFO, WARNING, ERROR, CRITICAL), which helps with debugging, monitoring, and maintaining applications. Unlike print statements, the logging module provides more flexibility, such as logging to files, filtering messages based on severity, and organizing logs by date and time."
      ],
      "metadata": {
        "id": "QdO-n12tOTgR"
      }
    },
    {
      "cell_type": "markdown",
      "source": [
        "22.  What is the os module in Python used for in file handling ?\n",
        "- The os module in Python provides a way to interact with the operating system, particularly for file handling tasks. It allows you to perform operations like creating, deleting, renaming, and accessing files and directories. Some common functions in the os module for file handling include os.rename(), os.remove(), os.mkdir(), and os.path.exists(). It also helps in navigating directories and obtaining file path information, making it essential for file management and system-level operations."
      ],
      "metadata": {
        "id": "yE3v8fEkOeFR"
      }
    },
    {
      "cell_type": "markdown",
      "source": [
        "23. What are the challenges associated with memory management in Python ?\n",
        "\n",
        "-> Challenges associated with memory management in Python include:\n",
        "\n",
        "* Garbage Collection Overhead: Python's garbage collector can introduce performance issues, especially when dealing with cyclic references, as it periodically scans for objects that can be cleaned up.\n",
        "\n",
        "* Reference Counting: Python uses reference counting to manage memory, which can sometimes lead to memory leaks if circular references occur and are not handled by the garbage collector.\n",
        "\n",
        "* Memory Fragmentation: Over time, frequent allocation and deallocation of memory may cause fragmentation, where memory becomes inefficiently used.\n",
        "\n",
        "* Memory Usage in Large Programs: Python's high-level nature and dynamic typing can lead to high memory usage, especially for large applications or when working with large datasets.\n",
        "\n",
        "Despite these challenges, Python's memory management system is generally effective, but developers need to be mindful of its limitations, especially in memory-intensive applications."
      ],
      "metadata": {
        "id": "QX5DQ9OYOodq"
      }
    },
    {
      "cell_type": "markdown",
      "source": [
        "24. How do you raise an exception manually in Python ?\n",
        "- In Python, you can raise an exception manually using the raise keyword followed by the exception type (and optionally an error message). For example:"
      ],
      "metadata": {
        "id": "vgLH30A9PEsq"
      }
    },
    {
      "cell_type": "code",
      "source": [
        "raise ValueError(\"This is a custom error message\")\n"
      ],
      "metadata": {
        "colab": {
          "base_uri": "https://localhost:8080/",
          "height": 141
        },
        "id": "iwjh3Oo2Pfyy",
        "outputId": "8c0302d8-ac39-4374-b9a1-12578da083ec"
      },
      "execution_count": 1,
      "outputs": [
        {
          "output_type": "error",
          "ename": "ValueError",
          "evalue": "This is a custom error message",
          "traceback": [
            "\u001b[0;31m---------------------------------------------------------------------------\u001b[0m",
            "\u001b[0;31mValueError\u001b[0m                                Traceback (most recent call last)",
            "\u001b[0;32m<ipython-input-1-94b8d9da5c64>\u001b[0m in \u001b[0;36m<cell line: 0>\u001b[0;34m()\u001b[0m\n\u001b[0;32m----> 1\u001b[0;31m \u001b[0;32mraise\u001b[0m \u001b[0mValueError\u001b[0m\u001b[0;34m(\u001b[0m\u001b[0;34m\"This is a custom error message\"\u001b[0m\u001b[0;34m)\u001b[0m\u001b[0;34m\u001b[0m\u001b[0;34m\u001b[0m\u001b[0m\n\u001b[0m",
            "\u001b[0;31mValueError\u001b[0m: This is a custom error message"
          ]
        }
      ]
    },
    {
      "cell_type": "markdown",
      "source": [],
      "metadata": {
        "id": "IDfHaag3PioK"
      }
    },
    {
      "cell_type": "markdown",
      "source": [
        "This raises a ValueError exception with the specified message. You can raise any built-in or custom exception class. You can also create custom exception classes by inheriting from Python’s base Exception class."
      ],
      "metadata": {
        "id": "fl501uBePogK"
      }
    },
    {
      "cell_type": "markdown",
      "source": [
        "24. Why is it important to use multithreading in certain applications?\n",
        "- Multithreading is important in certain applications because it allows tasks to run concurrently within a single process, making the program more efficient and responsive. It is particularly useful for I/O-bound operations, like reading/writing files or making network requests, where multiple tasks can be executed in parallel without waiting for one task to finish. Multithreading helps improve performance, reduces idle times, and allows better utilization of CPU resources. However, it’s less effective for CPU-bound tasks, where multiprocessing might be more appropriate."
      ],
      "metadata": {
        "id": "Wdvn82wnPpfb"
      }
    },
    {
      "cell_type": "markdown",
      "source": [
        "# **Practical Question**\n",
        "\n",
        "---\n",
        "\n"
      ],
      "metadata": {
        "id": "dTxWF8G1P-SK"
      }
    },
    {
      "cell_type": "markdown",
      "source": [
        "1.  How can you open a file for writing in Python and write a string to it ?"
      ],
      "metadata": {
        "id": "Er6_4XmjQDfi"
      }
    },
    {
      "cell_type": "code",
      "source": [
        "with open('file.txt', 'w') as file:\n",
        "    file.write(\"Hello, this is a string written to the file.\")\n"
      ],
      "metadata": {
        "id": "RIQSVYGKQLPv"
      },
      "execution_count": 3,
      "outputs": []
    },
    {
      "cell_type": "markdown",
      "source": [
        "2.  Write a Python program to read the contents of a file and print each line"
      ],
      "metadata": {
        "id": "W-Nks3AmQQoy"
      }
    },
    {
      "cell_type": "code",
      "source": [
        "# Open the file in read mode\n",
        "with open('file.txt', 'r') as file:\n",
        "    # Read and print each line in the file\n",
        "    for line in file:\n",
        "        print(line.strip())  # .strip() removes extra newline characters\n"
      ],
      "metadata": {
        "colab": {
          "base_uri": "https://localhost:8080/"
        },
        "id": "bs9k6mEJQU5L",
        "outputId": "5d8e2592-43cc-4d25-b6f1-bafb85c1cd04"
      },
      "execution_count": 8,
      "outputs": [
        {
          "output_type": "stream",
          "name": "stdout",
          "text": [
            "Hello, this is a string written to the file.\n"
          ]
        }
      ]
    },
    {
      "cell_type": "markdown",
      "source": [
        "3.  How would you handle a case where the file doesn't exist while trying to open it for reading?"
      ],
      "metadata": {
        "id": "dAI-0wsLQYAy"
      }
    },
    {
      "cell_type": "code",
      "source": [
        "try:\n",
        "    with open('example.txt', 'r') as file:\n",
        "        # Read and print each line in the file\n",
        "        for line in file:\n",
        "            print(line.strip())\n",
        "except FileNotFoundError:\n",
        "    print(\"The file does not exist.\")\n",
        "#In this program, if the file file.txt does not exist, a FileNotFoundError will be raised, and the program will print a custom error message instead of crashing.\n"
      ],
      "metadata": {
        "colab": {
          "base_uri": "https://localhost:8080/"
        },
        "id": "-8b4ZuocQdWC",
        "outputId": "99f39acf-2007-4e6f-96b5-1595930e1bc2"
      },
      "execution_count": 10,
      "outputs": [
        {
          "output_type": "stream",
          "name": "stdout",
          "text": [
            "The file does not exist.\n"
          ]
        }
      ]
    },
    {
      "cell_type": "markdown",
      "source": [
        "4. Write a Python script that reads from one file and writes its content to another file"
      ],
      "metadata": {
        "id": "j2_398WjQ8My"
      }
    },
    {
      "cell_type": "code",
      "source": [
        "# Open the source file in read mode and the destination file in write mode\n",
        "try:\n",
        "    with open('source.txt', 'r') as source_file: #did not created just showing how the script will work\n",
        "        with open('destination.txt', 'w') as destination_file:\n",
        "            # Read from the source file and write to the destination file\n",
        "            content = source_file.read()\n",
        "            destination_file.write(content)\n",
        "    print(\"File content copied successfully.\")\n",
        "except FileNotFoundError:\n",
        "    print(\"One of the files does not exist.\")\n"
      ],
      "metadata": {
        "colab": {
          "base_uri": "https://localhost:8080/"
        },
        "id": "XOAp93E9RGDz",
        "outputId": "38508dac-9d9c-4e95-ffda-c0ae1ceb90e1"
      },
      "execution_count": 11,
      "outputs": [
        {
          "output_type": "stream",
          "name": "stdout",
          "text": [
            "One of the files does not exist.\n"
          ]
        }
      ]
    },
    {
      "cell_type": "markdown",
      "source": [
        "5. How would you catch and handle division by zero error in Python ?"
      ],
      "metadata": {
        "id": "InWUL7jFR2VS"
      }
    },
    {
      "cell_type": "code",
      "source": [
        "try:\n",
        "    # Attempt to divide by zero\n",
        "    result = 10 / 0\n",
        "except ZeroDivisionError:\n",
        "    print(\"Error: Division by zero is not allowed.\")\n",
        "else:\n",
        "    print(\"Result:\", result)\n"
      ],
      "metadata": {
        "colab": {
          "base_uri": "https://localhost:8080/"
        },
        "id": "-TVe7pKiR_ZX",
        "outputId": "e7ceea04-6a26-412e-bfdb-166b592a5f48"
      },
      "execution_count": 12,
      "outputs": [
        {
          "output_type": "stream",
          "name": "stdout",
          "text": [
            "Error: Division by zero is not allowed.\n"
          ]
        }
      ]
    },
    {
      "cell_type": "markdown",
      "source": [
        "6. Write a Python program that logs an error message to a log file when a division by zero exception occurs"
      ],
      "metadata": {
        "id": "sAckzh4gSHgS"
      }
    },
    {
      "cell_type": "code",
      "source": [
        "import logging\n",
        "\n",
        "# Set up logging configuration\n",
        "logging.basicConfig(filename='error_log.txt', level=logging.ERROR,\n",
        "                    format='%(asctime)s - %(levelname)s - %(message)s')\n",
        "\n",
        "try:\n",
        "    # Attempt to divide by zero\n",
        "    result = 10 / 0\n",
        "except ZeroDivisionError as e:\n",
        "    # Log the error message to the log file\n",
        "    logging.error(f\"Division by zero error: {e}\")\n",
        "    print(\"Error: Division by zero occurred. Check the log file for details.\")\n"
      ],
      "metadata": {
        "colab": {
          "base_uri": "https://localhost:8080/"
        },
        "id": "lqoasSCDSHL6",
        "outputId": "a384f5fa-23b1-4ed6-904d-578e55ebd441"
      },
      "execution_count": 13,
      "outputs": [
        {
          "output_type": "stream",
          "name": "stderr",
          "text": [
            "ERROR:root:Division by zero error: division by zero\n"
          ]
        },
        {
          "output_type": "stream",
          "name": "stdout",
          "text": [
            "Error: Division by zero occurred. Check the log file for details.\n"
          ]
        }
      ]
    },
    {
      "cell_type": "markdown",
      "source": [
        "7.  How do you log information at different levels (INFO, ERROR, WARNING) in Python using the logging module."
      ],
      "metadata": {
        "id": "9QXPuqIySQl6"
      }
    },
    {
      "cell_type": "code",
      "source": [
        "import logging\n",
        "\n",
        "# Set up logging configuration\n",
        "logging.basicConfig(filename='app.log', level=logging.DEBUG,\n",
        "                    format='%(asctime)s - %(levelname)s - %(message)s')\n",
        "\n",
        "# Log at different levels\n",
        "logging.debug(\"This is a debug message\")\n",
        "logging.info(\"This is an info message\")\n",
        "logging.warning(\"This is a warning message\")\n",
        "logging.error(\"This is an error message\")\n",
        "logging.critical(\"This is a critical message\")\n"
      ],
      "metadata": {
        "colab": {
          "base_uri": "https://localhost:8080/"
        },
        "id": "l0JfPJK-ScMq",
        "outputId": "e42c7bc0-312e-406c-8606-b16c65f51349"
      },
      "execution_count": 14,
      "outputs": [
        {
          "output_type": "stream",
          "name": "stderr",
          "text": [
            "WARNING:root:This is a warning message\n",
            "ERROR:root:This is an error message\n",
            "CRITICAL:root:This is a critical message\n"
          ]
        }
      ]
    },
    {
      "cell_type": "markdown",
      "source": [
        "8.  Write a program to handle a file opening error using exception handling."
      ],
      "metadata": {
        "id": "416o-pfmSgQa"
      }
    },
    {
      "cell_type": "code",
      "source": [
        "try:\n",
        "    # Attempt to open a file\n",
        "    with open('non_existent_file.txt', 'r') as file:\n",
        "        content = file.read()\n",
        "        print(content)\n",
        "except FileNotFoundError:\n",
        "    print(\"Error: The file does not exist.\")\n",
        "except PermissionError:\n",
        "    print(\"Error: You do not have permission to access this file.\")\n",
        "except Exception as e:\n",
        "    print(f\"An unexpected error occurred: {e}\")\n"
      ],
      "metadata": {
        "colab": {
          "base_uri": "https://localhost:8080/"
        },
        "id": "lTr8Z0j0SnRC",
        "outputId": "6558784b-fff6-4958-83c0-1e6bbba10403"
      },
      "execution_count": 15,
      "outputs": [
        {
          "output_type": "stream",
          "name": "stdout",
          "text": [
            "Error: The file does not exist.\n"
          ]
        }
      ]
    },
    {
      "cell_type": "markdown",
      "source": [
        "9.  How can you read a file line by line and store its content in a list in Python ?"
      ],
      "metadata": {
        "id": "fTxiQJIFStSy"
      }
    },
    {
      "cell_type": "code",
      "source": [
        "try:\n",
        "    # Create a file if it doesn't exist and write some content to it\n",
        "    with open('sample.txt', 'x') as file:\n",
        "        file.write(\"Hello, this is the first line.\\n\")\n",
        "        file.write(\"This is the second line.\\n\")\n",
        "        file.write(\"And here is the third line.\\n\")\n",
        "\n",
        "except FileExistsError:\n",
        "    # If the file already exists, proceed to read the file\n",
        "    print(\"File already exists, proceeding to read content.\")\n",
        "\n",
        "# Read the file line by line and store its content in a list\n",
        "with open('sample.txt', 'r') as file:\n",
        "    lines = file.readlines()\n",
        "\n",
        "# Print the content of the list\n",
        "print(\"File content stored in a list:\")\n",
        "print(lines)\n"
      ],
      "metadata": {
        "colab": {
          "base_uri": "https://localhost:8080/"
        },
        "id": "7thdoyi0TWRC",
        "outputId": "eea2d6ea-4e1f-4d85-8141-bd108bce9796"
      },
      "execution_count": 16,
      "outputs": [
        {
          "output_type": "stream",
          "name": "stdout",
          "text": [
            "File content stored in a list:\n",
            "['Hello, this is the first line.\\n', 'This is the second line.\\n', 'And here is the third line.\\n']\n"
          ]
        }
      ]
    },
    {
      "cell_type": "markdown",
      "source": [
        "10.  How can you append data to an existing file in Python ?"
      ],
      "metadata": {
        "id": "RCbnCmz8U19L"
      }
    },
    {
      "cell_type": "code",
      "source": [
        "# Open the file in append mode\n",
        "with open('sample.txt', 'a') as file:\n",
        "    # Append data to the file\n",
        "    file.write(\"This is a new line added to the file.\\n\")\n",
        "\n",
        "print(\"Data has been appended to the file.\")\n"
      ],
      "metadata": {
        "id": "0Dl3k621U4aj"
      },
      "execution_count": null,
      "outputs": []
    },
    {
      "cell_type": "markdown",
      "source": [
        "11. Write a Python program that uses a try-except block to handle an error when attempting to access a\n",
        "dictionary key that doesn't exist"
      ],
      "metadata": {
        "id": "H5LJ6RE4U6Kb"
      }
    },
    {
      "cell_type": "code",
      "source": [
        "# Sample dictionary\n",
        "my_dict = {'name': 'Alice', 'age': 25}\n",
        "\n",
        "try:\n",
        "    # Attempt to access a key that doesn't exist\n",
        "    value = my_dict['address']\n",
        "except KeyError:\n",
        "    print(\"Error: The key 'address' does not exist in the dictionary.\")\n",
        "else:\n",
        "    print(\"Value:\", value)\n"
      ],
      "metadata": {
        "colab": {
          "base_uri": "https://localhost:8080/"
        },
        "id": "e_kOjLE2VCGT",
        "outputId": "1fcc43cb-837c-41d5-99e4-4002bf74bac5"
      },
      "execution_count": 17,
      "outputs": [
        {
          "output_type": "stream",
          "name": "stdout",
          "text": [
            "Error: The key 'address' does not exist in the dictionary.\n"
          ]
        }
      ]
    },
    {
      "cell_type": "markdown",
      "source": [
        "12.  Write a program that demonstrates using multiple except blocks to handle different types of exceptions"
      ],
      "metadata": {
        "id": "QtQQ1g6dVGgT"
      }
    },
    {
      "cell_type": "code",
      "source": [
        "try:\n",
        "    # Example of multiple exceptions\n",
        "    num1 = int(input(\"Enter the first number: \"))\n",
        "    num2 = int(input(\"Enter the second number: \"))\n",
        "\n",
        "    # Division operation that may raise a ZeroDivisionError\n",
        "    result = num1 / num2\n",
        "    print(f\"Result of division: {result}\")\n",
        "\n",
        "    # Attempting to access an invalid index, which may raise IndexError\n",
        "    my_list = [1, 2, 3]\n",
        "    print(my_list[5])\n",
        "\n",
        "except ZeroDivisionError:\n",
        "    print(\"Error: Cannot divide by zero.\")\n",
        "except ValueError:\n",
        "    print(\"Error: Invalid input. Please enter a valid integer.\")\n",
        "except IndexError:\n",
        "    print(\"Error: List index out of range.\")\n",
        "except Exception as e:\n",
        "    print(f\"An unexpected error occurred: {e}\")\n"
      ],
      "metadata": {
        "colab": {
          "base_uri": "https://localhost:8080/"
        },
        "id": "q9CNpCXEVO4b",
        "outputId": "7116ae4f-9fdc-44b9-db51-2ce326977cff"
      },
      "execution_count": 18,
      "outputs": [
        {
          "output_type": "stream",
          "name": "stdout",
          "text": [
            "Enter the first number: 5\n",
            "Enter the second number: 6\n",
            "Result of division: 0.8333333333333334\n",
            "Error: List index out of range.\n"
          ]
        }
      ]
    },
    {
      "cell_type": "markdown",
      "source": [
        "13.  How would you check if a file exists before attempting to read it in Python?"
      ],
      "metadata": {
        "id": "WI9cvfhsVrs7"
      }
    },
    {
      "cell_type": "code",
      "source": [
        "import os\n",
        "\n",
        "# File name\n",
        "filename = 'sample.txt'\n",
        "\n",
        "# Check if the file exists\n",
        "if os.path.exists(filename):\n",
        "    with open(filename, 'r') as file:\n",
        "        content = file.read()\n",
        "        print(\"File content:\\n\", content)\n",
        "else:\n",
        "    print(\"The file does not exist.\")\n"
      ],
      "metadata": {
        "colab": {
          "base_uri": "https://localhost:8080/"
        },
        "id": "2vqdnyiiV6wk",
        "outputId": "14b48c4e-b814-46ec-ab19-f3821e5a0e90"
      },
      "execution_count": 19,
      "outputs": [
        {
          "output_type": "stream",
          "name": "stdout",
          "text": [
            "File content:\n",
            " Hello, this is the first line.\n",
            "This is the second line.\n",
            "And here is the third line.\n",
            "\n"
          ]
        }
      ]
    },
    {
      "cell_type": "markdown",
      "source": [
        "14. Write a program that uses the logging module to log both informational and error messages ."
      ],
      "metadata": {
        "id": "hsgOkv-FWqbE"
      }
    },
    {
      "cell_type": "code",
      "source": [
        "import logging\n",
        "\n",
        "# Configure logging\n",
        "logging.basicConfig(filename='app_log.txt', level=logging.INFO,\n",
        "                    format='%(asctime)s - %(levelname)s - %(message)s')\n",
        "\n",
        "# Log an informational message\n",
        "logging.info(\"Program started.\")\n",
        "\n",
        "try:\n",
        "    # Example of a task that could cause an error\n",
        "    number = int(input(\"Enter a number to divide 100: \"))\n",
        "    result = 100 / number\n",
        "    logging.info(f\"Division successful. Result: {result}\")\n",
        "except ZeroDivisionError:\n",
        "    logging.error(\"Attempted to divide by zero.\")\n",
        "except ValueError:\n",
        "    logging.error(\"Invalid input. A number was expected.\")\n",
        "\n",
        "logging.info(\"Program ended.\")\n"
      ],
      "metadata": {
        "colab": {
          "base_uri": "https://localhost:8080/"
        },
        "id": "eaJbp7w4XCPD",
        "outputId": "70bfc0a6-be37-4a53-c5d3-e9448146e78f"
      },
      "execution_count": 21,
      "outputs": [
        {
          "name": "stdout",
          "output_type": "stream",
          "text": [
            "Enter a number to divide 100: 0\n"
          ]
        },
        {
          "output_type": "stream",
          "name": "stderr",
          "text": [
            "ERROR:root:Attempted to divide by zero.\n"
          ]
        }
      ]
    },
    {
      "cell_type": "markdown",
      "source": [
        "15.  Write a Python program that prints the content of a file and handles the case when the file is empty"
      ],
      "metadata": {
        "id": "SzfGBKXiXLcD"
      }
    },
    {
      "cell_type": "code",
      "source": [
        "filename = 'sample.txt'\n",
        "\n",
        "try:\n",
        "    with open(filename, 'r') as file:\n",
        "        content = file.read()\n",
        "        if content.strip() == \"\":\n",
        "            print(\"The file is empty.\")\n",
        "        else:\n",
        "            print(\"File content:\\n\", content)\n",
        "except FileNotFoundError:\n",
        "    print(\"Error: The file does not exist.\")\n"
      ],
      "metadata": {
        "colab": {
          "base_uri": "https://localhost:8080/"
        },
        "id": "OA17bQ3UXSqM",
        "outputId": "d887cca1-f27b-4a2b-df65-0221f1080866"
      },
      "execution_count": 22,
      "outputs": [
        {
          "output_type": "stream",
          "name": "stdout",
          "text": [
            "File content:\n",
            " Hello, this is the first line.\n",
            "This is the second line.\n",
            "And here is the third line.\n",
            "\n"
          ]
        }
      ]
    },
    {
      "cell_type": "markdown",
      "source": [
        "16.  Demonstrate how to use memory profiling to check the memory usage of a small program."
      ],
      "metadata": {
        "id": "k-Etu86GYeZc"
      }
    },
    {
      "cell_type": "code",
      "source": [
        "from memory_profiler import profile\n",
        "\n",
        "@profile\n",
        "def create_large_list():\n",
        "    my_list = [i * 2 for i in range(1000000)]  # Create a large list\n",
        "    total = sum(my_list)\n",
        "    print(\"Sum of list elements:\", total)\n",
        "    return my_list\n",
        "\n",
        "if __name__ == \"__main__\":\n",
        "    create_large_list()\n"
      ],
      "metadata": {
        "colab": {
          "base_uri": "https://localhost:8080/",
          "height": 384
        },
        "id": "9xARgTFvYkzk",
        "outputId": "f4f563ff-4067-43c1-a130-da07671cec72"
      },
      "execution_count": 23,
      "outputs": [
        {
          "output_type": "error",
          "ename": "ModuleNotFoundError",
          "evalue": "No module named 'memory_profiler'",
          "traceback": [
            "\u001b[0;31m---------------------------------------------------------------------------\u001b[0m",
            "\u001b[0;31mModuleNotFoundError\u001b[0m                       Traceback (most recent call last)",
            "\u001b[0;32m<ipython-input-23-df848e30be10>\u001b[0m in \u001b[0;36m<cell line: 0>\u001b[0;34m()\u001b[0m\n\u001b[0;32m----> 1\u001b[0;31m \u001b[0;32mfrom\u001b[0m \u001b[0mmemory_profiler\u001b[0m \u001b[0;32mimport\u001b[0m \u001b[0mprofile\u001b[0m\u001b[0;34m\u001b[0m\u001b[0;34m\u001b[0m\u001b[0m\n\u001b[0m\u001b[1;32m      2\u001b[0m \u001b[0;34m\u001b[0m\u001b[0m\n\u001b[1;32m      3\u001b[0m \u001b[0;34m@\u001b[0m\u001b[0mprofile\u001b[0m\u001b[0;34m\u001b[0m\u001b[0;34m\u001b[0m\u001b[0m\n\u001b[1;32m      4\u001b[0m \u001b[0;32mdef\u001b[0m \u001b[0mcreate_large_list\u001b[0m\u001b[0;34m(\u001b[0m\u001b[0;34m)\u001b[0m\u001b[0;34m:\u001b[0m\u001b[0;34m\u001b[0m\u001b[0;34m\u001b[0m\u001b[0m\n\u001b[1;32m      5\u001b[0m     \u001b[0mmy_list\u001b[0m \u001b[0;34m=\u001b[0m \u001b[0;34m[\u001b[0m\u001b[0mi\u001b[0m \u001b[0;34m*\u001b[0m \u001b[0;36m2\u001b[0m \u001b[0;32mfor\u001b[0m \u001b[0mi\u001b[0m \u001b[0;32min\u001b[0m \u001b[0mrange\u001b[0m\u001b[0;34m(\u001b[0m\u001b[0;36m1000000\u001b[0m\u001b[0;34m)\u001b[0m\u001b[0;34m]\u001b[0m  \u001b[0;31m# Create a large list\u001b[0m\u001b[0;34m\u001b[0m\u001b[0;34m\u001b[0m\u001b[0m\n",
            "\u001b[0;31mModuleNotFoundError\u001b[0m: No module named 'memory_profiler'",
            "",
            "\u001b[0;31m---------------------------------------------------------------------------\u001b[0;32m\nNOTE: If your import is failing due to a missing package, you can\nmanually install dependencies using either !pip or !apt.\n\nTo view examples of installing some common dependencies, click the\n\"Open Examples\" button below.\n\u001b[0;31m---------------------------------------------------------------------------\u001b[0m\n"
          ],
          "errorDetails": {
            "actions": [
              {
                "action": "open_url",
                "actionText": "Open Examples",
                "url": "/notebooks/snippets/importing_libraries.ipynb"
              }
            ]
          }
        }
      ]
    },
    {
      "cell_type": "markdown",
      "source": [
        "What This Does:\n",
        "The @profile decorator tracks memory usage inside the create_large_list() function.\n",
        "\n",
        "* It builds a large list, calculates its sum, and prints it.\n",
        "\n",
        "* When run with memory profiler, you'll get detailed memory usage per line.\n",
        "\n",
        "* Let me know if you want me to explain the output format too!"
      ],
      "metadata": {
        "id": "CRme7kEAY8l8"
      }
    },
    {
      "cell_type": "markdown",
      "source": [
        "17.  Write a Python program to create and write a list of numbers to a file, one number per line"
      ],
      "metadata": {
        "id": "jBmCVYirZEs2"
      }
    },
    {
      "cell_type": "code",
      "source": [
        "# List of numbers\n",
        "numbers = [10, 20, 30, 40, 50]\n",
        "\n",
        "# File to write the numbers\n",
        "filename = 'numbers.txt'\n",
        "\n",
        "# Write numbers to the file, one per line\n",
        "with open(filename, 'w') as file:\n",
        "    for num in numbers:\n",
        "        file.write(str(num) + '\\n')\n",
        "\n",
        "print(\"Numbers have been written to the file.\")\n"
      ],
      "metadata": {
        "colab": {
          "base_uri": "https://localhost:8080/"
        },
        "id": "7bgFuyuOZWaE",
        "outputId": "0763fc85-06f3-4c1c-9aa9-3f5ed524d970"
      },
      "execution_count": 24,
      "outputs": [
        {
          "output_type": "stream",
          "name": "stdout",
          "text": [
            "Numbers have been written to the file.\n"
          ]
        }
      ]
    },
    {
      "cell_type": "markdown",
      "source": [
        "18.  How would you implement a basic logging setup that logs to a file with rotation after 1MB ?"
      ],
      "metadata": {
        "id": "RxOc4TGMZaXc"
      }
    },
    {
      "cell_type": "code",
      "source": [
        "import logging\n",
        "from logging.handlers import RotatingFileHandler\n",
        "\n",
        "# Set up a rotating file handler\n",
        "log_handler = RotatingFileHandler(\n",
        "    'app.log', maxBytes=1*1024*1024, backupCount=3\n",
        ")\n",
        "\n",
        "# Configure logging\n",
        "logging.basicConfig(\n",
        "    level=logging.INFO,\n",
        "    format='%(asctime)s - %(levelname)s - %(message)s',\n",
        "    handlers=[log_handler]\n",
        ")\n",
        "\n",
        "# Example log messages\n",
        "for i in range(10000):\n",
        "    logging.info(f\"This is log message number {i}\")\n"
      ],
      "metadata": {
        "id": "_6tdlFAqZit8"
      },
      "execution_count": 25,
      "outputs": []
    },
    {
      "cell_type": "markdown",
      "source": [
        "19. Write a program that handles both IndexError and KeyError using a try-except block"
      ],
      "metadata": {
        "id": "zdgqJ5r1Zlx1"
      }
    },
    {
      "cell_type": "code",
      "source": [
        "my_list = [10, 20, 30]\n",
        "my_dict = {'name': 'Alice', 'age': 25}\n",
        "\n",
        "try:\n",
        "    # Attempt to access an invalid index\n",
        "    print(\"List item:\", my_list[5])\n",
        "\n",
        "    # Attempt to access a missing dictionary key\n",
        "    print(\"Address:\", my_dict['address'])\n",
        "\n",
        "except IndexError:\n",
        "    print(\"Error: List index out of range.\")\n",
        "\n",
        "except KeyError:\n",
        "    print(\"Error: Dictionary key not found.\")\n"
      ],
      "metadata": {
        "colab": {
          "base_uri": "https://localhost:8080/"
        },
        "id": "JoA-I6UfZrZU",
        "outputId": "d6e6a446-2baa-413d-e837-75324d286f1d"
      },
      "execution_count": 26,
      "outputs": [
        {
          "output_type": "stream",
          "name": "stdout",
          "text": [
            "Error: List index out of range.\n"
          ]
        }
      ]
    },
    {
      "cell_type": "markdown",
      "source": [
        "20.  How would you open a file and read its contents using a context manager in Python?"
      ],
      "metadata": {
        "id": "2mOnm10LZ5f0"
      }
    },
    {
      "cell_type": "code",
      "source": [
        "# Open the file and read its contents\n",
        "with open('sample.txt', 'r') as file:\n",
        "    content = file.read()\n",
        "    print(\"File content:\\n\", content)\n"
      ],
      "metadata": {
        "colab": {
          "base_uri": "https://localhost:8080/"
        },
        "id": "e20Cwgm5aF2M",
        "outputId": "6796f938-180b-40a0-c81b-3dd13febd0fa"
      },
      "execution_count": 27,
      "outputs": [
        {
          "output_type": "stream",
          "name": "stdout",
          "text": [
            "File content:\n",
            " Hello, this is the first line.\n",
            "This is the second line.\n",
            "And here is the third line.\n",
            "\n"
          ]
        }
      ]
    },
    {
      "cell_type": "markdown",
      "source": [
        "21.  Write a Python program that reads a file and prints the number of occurrences of a specific word"
      ],
      "metadata": {
        "id": "-rUI3AfiaLRE"
      }
    },
    {
      "cell_type": "code",
      "source": [
        "def count_word_in_file(filename, word):\n",
        "    try:\n",
        "        # Open the file in read mode\n",
        "        with open(filename, 'r') as file:\n",
        "            content = file.read()\n",
        "\n",
        "        # Count occurrences of the word\n",
        "        word_count = content.lower().split().count(word.lower())\n",
        "\n",
        "        print(f\"The word '{word}' appears {word_count} times in the file.\")\n",
        "\n",
        "    except FileNotFoundError:\n",
        "        print(f\"Error: The file '{filename}' does not exist.\")\n",
        "\n",
        "# Example usage\n",
        "filename = 'sample.txt'\n",
        "word_to_count = 'python'\n",
        "count_word_in_file(filename, word_to_count)\n"
      ],
      "metadata": {
        "colab": {
          "base_uri": "https://localhost:8080/"
        },
        "id": "dKTiqEeFaXXM",
        "outputId": "6dd56061-142c-4ae4-ebd3-4cb82f0791e1"
      },
      "execution_count": 28,
      "outputs": [
        {
          "output_type": "stream",
          "name": "stdout",
          "text": [
            "The word 'python' appears 0 times in the file.\n"
          ]
        }
      ]
    },
    {
      "cell_type": "markdown",
      "source": [
        "22. How can you check if a file is empty before attempting to read its contents"
      ],
      "metadata": {
        "id": "eAXQJR82bANU"
      }
    },
    {
      "cell_type": "code",
      "source": [
        "import os\n",
        "\n",
        "def check_file_empty(filename):\n",
        "    # Check if the file exists and get its size\n",
        "    if os.path.exists(filename):\n",
        "        file_size = os.path.getsize(filename)\n",
        "\n",
        "        if file_size == 0:\n",
        "            print(f\"The file '{filename}' is empty.\")\n",
        "        else:\n",
        "            print(f\"The file '{filename}' is not empty.\")\n",
        "            with open(filename, 'r') as file:\n",
        "                content = file.read()\n",
        "                print(\"File content:\\n\", content)\n",
        "    else:\n",
        "        print(f\"Error: The file '{filename}' does not exist.\")\n",
        "\n",
        "# Example usage\n",
        "filename = 'sample.txt'\n",
        "check_file_empty(filename)\n"
      ],
      "metadata": {
        "colab": {
          "base_uri": "https://localhost:8080/"
        },
        "id": "29bVP7Cga1j0",
        "outputId": "2abaff5d-77ca-44f6-8407-270faa0ff418"
      },
      "execution_count": 29,
      "outputs": [
        {
          "output_type": "stream",
          "name": "stdout",
          "text": [
            "The file 'sample.txt' is not empty.\n",
            "File content:\n",
            " Hello, this is the first line.\n",
            "This is the second line.\n",
            "And here is the third line.\n",
            "\n"
          ]
        }
      ]
    },
    {
      "cell_type": "markdown",
      "source": [
        "23.  Write a Python program that writes to a log file when an error occurs during file handling."
      ],
      "metadata": {
        "id": "hwDjCd6ebIjs"
      }
    },
    {
      "cell_type": "code",
      "source": [
        "import logging\n",
        "\n",
        "# Set up logging to log errors to a file\n",
        "logging.basicConfig(filename='file_error_log.txt', level=logging.ERROR,\n",
        "                    format='%(asctime)s - %(levelname)s - %(message)s')\n",
        "\n",
        "def read_file(filename):\n",
        "    try:\n",
        "        with open(filename, 'r') as file:\n",
        "            content = file.read()\n",
        "            print(\"File content:\\n\", content)\n",
        "    except FileNotFoundError as e:\n",
        "        logging.error(f\"FileNotFoundError: {e}\")\n",
        "        print(f\"Error: The file '{filename}' does not exist.\")\n",
        "    except PermissionError as e:\n",
        "        logging.error(f\"PermissionError: {e}\")\n",
        "        print(f\"Error: Permission denied when accessing '{filename}'.\")\n",
        "    except Exception as e:\n",
        "        logging.error(f\"Unexpected error: {e}\")\n",
        "        print(\"An unexpected error occurred.\")\n",
        "\n",
        "# Example usage\n",
        "filename = 'sample.txt'\n",
        "read_file(filename)\n"
      ],
      "metadata": {
        "colab": {
          "base_uri": "https://localhost:8080/"
        },
        "id": "w4mrAJVebOdk",
        "outputId": "b17fc264-0c24-4a68-8fd4-75ca40e346bf"
      },
      "execution_count": 30,
      "outputs": [
        {
          "output_type": "stream",
          "name": "stdout",
          "text": [
            "File content:\n",
            " Hello, this is the first line.\n",
            "This is the second line.\n",
            "And here is the third line.\n",
            "\n"
          ]
        }
      ]
    }
  ]
}